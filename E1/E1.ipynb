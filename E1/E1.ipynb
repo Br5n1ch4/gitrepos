{
 "cells": [
  {
   "cell_type": "markdown",
   "id": "fec9e295",
   "metadata": {},
   "source": [
    "# Bruno Santibáñez 15/09/2021\n",
    "### 1. Crear una carpeta nueva en su repositorio git con el nombre E1 (0.2 pto)\n",
    "### 2. Dentro de E1 crear una carpeta que se llame data. (0.2 pto)\n",
    "### 3. Guardar los datos asignados en esa carpeta. (0.2 pto)\n",
    "### 4. Dentro de E1 debera crear un Jupyter Notebook llamado E1. (0.2 pto)\n",
    "### 5. En el Jupyter Notebook, configurar la primera casilla en Lenguaje Markdown y escribir su nombre, fecha, y esta lista de instrucciones de forma ordenada. (0.2 pts)\n",
    "### 6. Importar la libreria csv y matplotlib.pyplot de python para poder procesar y graficar los datos del archivo. Debe separar el código en las casillas que estime conveniente, pero se solicita minimo que en una casilla esten solo las importaciones, en otra solo la lectura de los datos y otra con los plots, además cada casilla debe tener una casilla previa que describa el código en formato markdown. (2 pts)\n",
    "### 7. Hacer los gráficos correspondientes al conjunto de datos seleccionado. (1 pts)\n",
    "### 8. Utilizar los comandos adecuados de git para actualizar su repositorio y dejarlo disponible en github de forma pública. (1 pts)\n",
    "### 9. Crear su perfil web de github siguiendo este tutorial oficial, sino quiere crearlo sobre ud, puede crearlo sobre algun tema de interés. (1 pts)"
   ]
  },
  {
   "cell_type": "code",
   "execution_count": 19,
   "id": "d4ffa900",
   "metadata": {},
   "outputs": [],
   "source": [
    "import csv \n",
    "import matplotlib.pyplot as plt"
   ]
  },
  {
   "cell_type": "code",
   "execution_count": 20,
   "id": "2edd8a01",
   "metadata": {},
   "outputs": [],
   "source": [
    "columnas=[]\n",
    "\n",
    "with open ('data/casos_nuevos_acumulados_por_fecha.csv') as cnapf:\n",
    "    lector = csv.reader(cnapf, delimiter=',')\n",
    "    contador=0;\n",
    "    for row in lector:\n",
    "        if contador==0:\n",
    "            columnas=row\n",
    "            contador=1;"
   ]
  },
  {
   "cell_type": "code",
   "execution_count": 21,
   "id": "0287de6e",
   "metadata": {},
   "outputs": [
    {
     "data": {
      "text/plain": [
       "['Fecha', 'Serie', 'Casos']"
      ]
     },
     "execution_count": 21,
     "metadata": {},
     "output_type": "execute_result"
    }
   ],
   "source": [
    "columnas"
   ]
  },
  {
   "cell_type": "code",
   "execution_count": null,
   "id": "c98aa044",
   "metadata": {},
   "outputs": [],
   "source": []
  },
  {
   "cell_type": "code",
   "execution_count": null,
   "id": "4f13e253",
   "metadata": {},
   "outputs": [],
   "source": []
  }
 ],
 "metadata": {
  "kernelspec": {
   "display_name": "Python 3",
   "language": "python",
   "name": "python3"
  },
  "language_info": {
   "codemirror_mode": {
    "name": "ipython",
    "version": 3
   },
   "file_extension": ".py",
   "mimetype": "text/x-python",
   "name": "python",
   "nbconvert_exporter": "python",
   "pygments_lexer": "ipython3",
   "version": "3.8.8"
  }
 },
 "nbformat": 4,
 "nbformat_minor": 5
}
